{
 "cells": [
  {
   "cell_type": "markdown",
   "metadata": {},
   "source": [
    "# Introduction to spectracles"
   ]
  },
  {
   "cell_type": "markdown",
   "metadata": {},
   "source": [
    "### Welcome! This notebook hopefully provides a sufficient and simple introduction to what spectracles does and how to use it. Enjoy, and let me know if you have any questions - Zephyr"
   ]
  },
  {
   "cell_type": "code",
   "execution_count": 3,
   "metadata": {},
   "outputs": [
    {
     "name": "stdout",
     "output_type": "stream",
     "text": [
      "The autoreload extension is already loaded. To reload it, use:\n",
      "  %reload_ext autoreload\n"
     ]
    }
   ],
   "source": [
    "# You don't have to use autoreload, it's just useful for me while I'm still developing the package.\n",
    "%load_ext autoreload\n",
    "%autoreload 2\n",
    "import spectracles.spectra # Very occasionally astroquery.gaia (loaded by spectracles) doesn't import correctly. If so just re-run this.\n",
    "# As well as spectracles you'll need to have numpy, astropy and astroquery installed (and possibly at some point matplotlib).\n",
    "import numpy as np\n",
    "import astropy"
   ]
  },
  {
   "cell_type": "markdown",
   "metadata": {},
   "source": [
    "# Examples of using spectracles"
   ]
  },
  {
   "cell_type": "markdown",
   "metadata": {},
   "source": [
    "### Let's use v410 x-ray 1 as an example. We'll idenitfy it by one (of many) of the names Simbad can use to recognise it with \n"
   ]
  },
  {
   "cell_type": "code",
   "execution_count": 4,
   "metadata": {},
   "outputs": [],
   "source": [
    "v410xray1 = '[SS94] V410 X-ray 1' # (could also use the coordinates, ra+dec, or any other Simbad-compatible name)"
   ]
  },
  {
   "cell_type": "markdown",
   "metadata": {},
   "source": [
    "# getInfo()\n",
    "### Pulling simple data about this star from Simbad (+Gaia)"
   ]
  },
  {
   "cell_type": "code",
   "execution_count": 6,
   "metadata": {},
   "outputs": [
    {
     "name": "stdout",
     "output_type": "stream",
     "text": [
      "<class 'astropy.table.row.Row'>\n",
      "star:      MAIN_ID            RA           DEC      RA_PREC DEC_PREC COO_ERR_MAJA COO_ERR_MINA COO_ERR_ANGLE COO_QUAL COO_WAVELENGTH     COO_BIBCODE          RA_2         DEC_2     RA_PREC_2 DEC_PREC_2 COO_ERR_MAJA_2 COO_ERR_MINA_2 COO_ERR_ANGLE_2 COO_QUAL_2 COO_WAVELENGTH_2    COO_BIBCODE_2    SP_TYPE SP_QUAL      SP_BIBCODE     SP_TYPE_2 SP_QUAL_2     SP_BIBCODE_2                                                                                                                                                                                 IDS                                                                                                                                                                               OTYPE PLX_VALUE PLX_VALUE_2     PLX_BIBCODE    \n",
      "                    \"h:m:s\"       \"d:m:s\"                         mas          mas           deg                                                     \"h:m:s\"       \"d:m:s\"                              mas            mas             deg                                                                                                                                                                                                                                                                                                                                                                                                                                                                                                           mas        mas                        \n",
      "---------------- ------------- ------------- ------- -------- ------------ ------------ ------------- -------- -------------- ------------------- ------------- ------------- --------- ---------- -------------- -------------- --------------- ---------- ---------------- ------------------- ------- ------- ------------------- --------- --------- ------------------- -------------------------------------------------------------------------------------------------------------------------------------------------------------------------------------------------------------------------------------------------------------------------------------------------------------------------------------------------------------- ----- --------- ----------- -------------------\n",
      "IRAS F04147+2822 04 17 49.6578 +28 29 36.325      14       14        0.072        0.033            90        A              O 2018yCat.1345....0G 04 17 49.6578 +28 29 36.325        14         14          0.072          0.033              90          A                O 2018yCat.1345....0G    M3.7       D 2014ApJ...786...97H      M3.7         D 2014ApJ...786...97H 2MASS J04174965+2829362|** KSA    8A|AKARI-IRC-V1 J0417496+282936|IRAS F04147+2822|Kim 3-76|SSTc2d J041749.6+282937|SSTtau 041749.6+282936|WDS J04178+2830A|WISE J041749.65+282936.0|WISE J041749.66+282936.1|XEST 23-008|XEST 24-008|[BBM92] 16|[BCG93]  3|[GBA2007] 348|[GBA2007] 347|[GMM2009] Tau L1495 29|[SS94] V410 X-ray 1|Gaia DR2 164702070133970944 TTau*     7.750       7.750 2018yCat.1345....0G\n"
     ]
    },
    {
     "ename": "NameError",
     "evalue": "name 'vdfv' is not defined",
     "output_type": "error",
     "traceback": [
      "\u001b[0;31m---------------------------------------------------------------------------\u001b[0m",
      "\u001b[0;31mNameError\u001b[0m                                 Traceback (most recent call last)",
      "\u001b[0;32m<ipython-input-6-43f45d4ebb6f>\u001b[0m in \u001b[0;36m<module>\u001b[0;34m()\u001b[0m\n\u001b[0;32m----> 1\u001b[0;31m \u001b[0mstarInfo\u001b[0m\u001b[0;34m=\u001b[0m\u001b[0mspectracles\u001b[0m\u001b[0;34m.\u001b[0m\u001b[0mspectra\u001b[0m\u001b[0;34m.\u001b[0m\u001b[0mgetInfo\u001b[0m\u001b[0;34m(\u001b[0m\u001b[0mname\u001b[0m\u001b[0;34m=\u001b[0m\u001b[0mv410xray1\u001b[0m\u001b[0;34m)\u001b[0m\u001b[0;34m\u001b[0m\u001b[0m\n\u001b[0m\u001b[1;32m      2\u001b[0m \u001b[0;31m# If you'd rather use a coordinate call getInfo(ra=RA,dec=DEC) - will return data for nearest 2MASS object\u001b[0m\u001b[0;34m\u001b[0m\u001b[0;34m\u001b[0m\u001b[0m\n\u001b[1;32m      3\u001b[0m \u001b[0;31m# (spectracles currently only works for objects in the 2MASS survey - almost all stars - because the 2MASS ID can then be used as a universal id)\u001b[0m\u001b[0;34m\u001b[0m\u001b[0;34m\u001b[0m\u001b[0m\n\u001b[1;32m      4\u001b[0m \u001b[0;34m\u001b[0m\u001b[0m\n\u001b[1;32m      5\u001b[0m \u001b[0;31m# And let's have a look at that data (returned as a dictionary)\u001b[0m\u001b[0;34m\u001b[0m\u001b[0;34m\u001b[0m\u001b[0m\n",
      "\u001b[0;32m~/Google Drive/astro/pythonModules/spectracles/spectra.py\u001b[0m in \u001b[0;36mgetInfo\u001b[0;34m(ra, dec, name)\u001b[0m\n\u001b[1;32m     65\u001b[0m     \u001b[0mprint\u001b[0m\u001b[0;34m(\u001b[0m\u001b[0;34m'star: '\u001b[0m\u001b[0;34m,\u001b[0m\u001b[0mstar\u001b[0m\u001b[0;34m)\u001b[0m\u001b[0;34m\u001b[0m\u001b[0m\n\u001b[1;32m     66\u001b[0m \u001b[0;34m\u001b[0m\u001b[0m\n\u001b[0;32m---> 67\u001b[0;31m     \u001b[0mvdfv\u001b[0m\u001b[0;34m\u001b[0m\u001b[0m\n\u001b[0m\u001b[1;32m     68\u001b[0m     \u001b[0mstarDict\u001b[0m\u001b[0;34m[\u001b[0m\u001b[0;34m'SimbadName'\u001b[0m\u001b[0;34m]\u001b[0m\u001b[0;34m=\u001b[0m\u001b[0mstar\u001b[0m\u001b[0;34m[\u001b[0m\u001b[0;34m'MAIN_ID'\u001b[0m\u001b[0;34m]\u001b[0m\u001b[0;34m.\u001b[0m\u001b[0mdecode\u001b[0m\u001b[0;34m(\u001b[0m\u001b[0;34m'utf-8'\u001b[0m\u001b[0;34m)\u001b[0m \u001b[0;31m#getting rid of small b...\u001b[0m\u001b[0;34m\u001b[0m\u001b[0m\n\u001b[1;32m     69\u001b[0m     \u001b[0mstarDict\u001b[0m\u001b[0;34m[\u001b[0m\u001b[0;34m'2MASSID'\u001b[0m\u001b[0;34m]\u001b[0m\u001b[0;34m=\u001b[0m\u001b[0mtmName\u001b[0m\u001b[0;34m\u001b[0m\u001b[0m\n",
      "\u001b[0;31mNameError\u001b[0m: name 'vdfv' is not defined"
     ]
    }
   ],
   "source": [
    "starInfo=spectracles.spectra.getInfo(name=v410xray1)\n",
    "# If you'd rather use a coordinate call getInfo(ra=RA,dec=DEC) - will return data for nearest 2MASS object\n",
    "# (spectracles currently only works for objects in the 2MASS survey - almost all stars - because the 2MASS ID can then be used as a universal id)\n",
    "\n",
    "# And let's have a look at that data (returned as a dictionary)\n",
    "print('\\n _______INFORMATION ABOUT THE STAR')\n",
    "for key in starInfo.keys():\n",
    "    print(key,': ',starInfo[key])\n",
    "# For this particular star Gaia has no recorded radius, luminosity or dust-reddening coeeficient (Ag). However they have calculated this for many stars, so worth checking."
   ]
  },
  {
   "cell_type": "markdown",
   "metadata": {},
   "source": [
    "# getSpectra()\n",
    "### Finding SED data points (returned in an astropy table) as well as supplementary info (a dictionary stored in the tables metadata). It should take a few seconds to run.\n"
   ]
  },
  {
   "cell_type": "code",
   "execution_count": 13,
   "metadata": {},
   "outputs": [
    {
     "name": "stdout",
     "output_type": "stream",
     "text": [
      "Downloading http://vizier.u-strasbg.fr/viz-bin/sed?-c=04+17+49.6578+28+29+36.325&-c.r=2&-c.u=arcsec [Done]\n",
      "\n",
      " _______MAIN TABLE OF FLUXS:\n",
      "    lambda         flux         error               source          telescope \n",
      "------------- ------------- -------------- ----------------------- -----------\n",
      " 4.445103e-07 1.1447982e-08   4.539717e-09              STScI 2006       2MASS\n",
      "4.6832557e-07    7.7418e-09  3.0638927e-09              STScI 2006        POSS\n",
      " 4.775549e-07 4.5514597e-09    7.76116e-10          Chambers+ 2016  Pan-STARRS\n",
      " 5.049655e-07 1.3059328e-08   9.412128e-10 Gaia Collaboration 2018        Gaia\n",
      " 6.129955e-07  7.233273e-09 1.03788686e-10          Chambers+ 2016  Pan-STARRS\n",
      "  6.23053e-07  4.250441e-08  1.3137728e-09 Gaia Collaboration 2018        Gaia\n",
      " 6.404372e-07 4.7908156e-08  1.8504982e-08              STScI 2006        POSS\n",
      "6.7346116e-07 5.5230966e-08            0.0         Zacharias+ 2017        Gaia\n",
      "6.7346116e-07 5.5230966e-08            0.0 Gaia Collaboration 2016        Gaia\n",
      "6.7346116e-07 5.5230966e-08  1.0583179e-09           Altmann+ 2017        Gaia\n",
      "          ...           ...            ...                     ...         ...\n",
      "        7e-05  2.393694e-11   5.168849e-12            Marton+ 2017    Herschel\n",
      " 7.004763e-05  2.201085e-11  1.8342376e-12            Bulger+ 2014    Herschel\n",
      " 7.146941e-05 3.0071202e-11   6.108213e-12            Rebull+ 2010     Spitzer\n",
      " 7.146941e-05 2.9953737e-11   5.873282e-12            Bulger+ 2014     Spitzer\n",
      "0.00010201999  9.771255e-10            0.0        Abrahamyan+ 2015        IRAS\n",
      "0.00016011101 1.4277058e-11            0.0            Bulger+ 2014    Herschel\n",
      "0.00045030846 1.3906853e-12            0.0            Bulger+ 2014 Unspecified\n",
      "0.00084985833 3.7382698e-14            0.0            Bulger+ 2014 Unspecified\n",
      "0.00084985833 3.7382698e-14            0.0           Mohanty+ 2013       SCUBA\n",
      "  0.000887574   3.42732e-14            0.0           Andrews+ 2013         SMA\n",
      " 0.0013333333    5.7375e-15            0.0           Andrews+ 2013         SMA\n",
      "Length = 140 rows\n",
      "\n",
      " _______SUPPLEMENTARY INFORMATION\n",
      "SimbadName :  IRAS F04147+2822\n",
      "2MASSID :  J04174965+2829362\n",
      "ObjectType :  TTau*\n",
      "StellarType :  M3.7\n",
      "StellarTypeSource :  Herczeg+ 2014\n",
      "RA :  04 17 49.6578\n",
      "DEC :  +28 29 36.325\n",
      "CoordSource :  Gaia Collaboration 2018\n",
      "Distance :  129.03225806451613\n",
      "DistanceSource :  Gaia Collaboration 2018\n",
      "Teff :  4315.1724\n",
      "TeffSource :  Gaia Collaboration 2018\n",
      "Radius :  -1\n",
      "RadiusSource :  \n",
      "Luminosity :  -1\n",
      "LuminositySource :  \n",
      "Ag :  -1\n",
      "AgSource :  \n",
      "comments :  ['All units for flux+wavelength are SI, I leave it to the user to convert/add astropy units', 'Meta data about the star is stored under indivdual fields', 'e.g. if data stored in variable called \"dataTable\" the R.A. of the star can be found via \"dataTable.meta[\"RA\"]\".', 'Everything intended to be read into astropy tables - either directly or via the getSpectraFromFile() function.', 'See GITHUB-REPO for more details.', 'Please cite SOME-PAPER if you make use of this tool or data.']\n"
     ]
    },
    {
     "name": "stderr",
     "output_type": "stream",
     "text": [
      "WARNING: NoResultsWarning: Query returned no results, so the table will be empty [astroquery.irsa.core]\n",
      "WARNING: NoResultsWarning: Query returned no results, so the table will be empty [astroquery.irsa.core]\n",
      "WARNING: NoResultsWarning: Query returned no results, so the table will be empty [astroquery.irsa.core]\n",
      "WARNING: NoResultsWarning: Query returned no results, so the table will be empty [astroquery.irsa.core]\n",
      "WARNING: NoResultsWarning: Query returned no results, so the table will be empty [astroquery.irsa.core]\n"
     ]
    }
   ],
   "source": [
    "table=spectracles.spectra.getSpectra(name=v410xray1)\n",
    "\n",
    "# Again let's have a look at that data\n",
    "print('\\n _______MAIN TABLE OF FLUXS:')\n",
    "print(table)\n",
    "print('\\n _______SUPPLEMENTARY INFORMATION') # almost exactly the same as what is returned by getInfo()\n",
    "for key in table.meta.keys():\n",
    "    print(key,': ',table.meta[key])"
   ]
  },
  {
   "cell_type": "markdown",
   "metadata": {},
   "source": [
    "#### We try our best to identify which telescope each observation is from but sometimes it's not clearly recorded (or it's just a one off observation and not from a recognizable survey). You can add new telescopes, or link certain papers with telescopes, by hardcoding them in the getSpectra function, or asking me to do so.\n",
    "\n",
    "#### For a lot of users this may be all you need (if you just want the spectra), but below there's details about how you can do even more by saving the spectra to file."
   ]
  },
  {
   "cell_type": "markdown",
   "metadata": {},
   "source": [
    "# Saving to file and adding new data"
   ]
  },
  {
   "cell_type": "markdown",
   "metadata": {},
   "source": [
    "### Great. Now we could just use the data like this, in an astropy table. However if we save it to file we can do even more, as we can start appending data from other sources (right now we're limited to just those that are easily sourceable and machine-readable online).\n",
    "\n",
    "### First let's just save it to file:"
   ]
  },
  {
   "cell_type": "code",
   "execution_count": 15,
   "metadata": {},
   "outputs": [
    {
     "name": "stdout",
     "output_type": "stream",
     "text": [
      "Downloading http://vizier.u-strasbg.fr/viz-bin/sed?-c=04+17+49.6578+28+29+36.325&-c.r=2&-c.u=arcsec [Done]\n",
      "\n",
      " _______MAIN TABLE OF FLUXS:\n",
      "    lambda         flux         error               source          telescope \n",
      "------------- ------------- -------------- ----------------------- -----------\n",
      " 4.445103e-07 1.1447982e-08   4.539717e-09              STScI 2006       2MASS\n",
      "4.6832557e-07    7.7418e-09  3.0638927e-09              STScI 2006        POSS\n",
      " 4.775549e-07 4.5514597e-09    7.76116e-10          Chambers+ 2016  Pan-STARRS\n",
      " 5.049655e-07 1.3059328e-08   9.412128e-10 Gaia Collaboration 2018        Gaia\n",
      " 6.129955e-07  7.233273e-09 1.03788686e-10          Chambers+ 2016  Pan-STARRS\n",
      "  6.23053e-07  4.250441e-08  1.3137728e-09 Gaia Collaboration 2018        Gaia\n",
      " 6.404372e-07 4.7908156e-08  1.8504982e-08              STScI 2006        POSS\n",
      "6.7346116e-07 5.5230966e-08            0.0         Zacharias+ 2017        Gaia\n",
      "6.7346116e-07 5.5230966e-08            0.0 Gaia Collaboration 2016        Gaia\n",
      "6.7346116e-07 5.5230966e-08  1.0583179e-09           Altmann+ 2017        Gaia\n",
      "          ...           ...            ...                     ...         ...\n",
      "        7e-05  2.393694e-11   5.168849e-12            Marton+ 2017    Herschel\n",
      " 7.004763e-05  2.201085e-11  1.8342376e-12            Bulger+ 2014    Herschel\n",
      " 7.146941e-05 3.0071202e-11   6.108213e-12            Rebull+ 2010     Spitzer\n",
      " 7.146941e-05 2.9953737e-11   5.873282e-12            Bulger+ 2014     Spitzer\n",
      "0.00010201999  9.771255e-10            0.0        Abrahamyan+ 2015        IRAS\n",
      "0.00016011101 1.4277058e-11            0.0            Bulger+ 2014    Herschel\n",
      "0.00045030846 1.3906853e-12            0.0            Bulger+ 2014 Unspecified\n",
      "0.00084985833 3.7382698e-14            0.0            Bulger+ 2014 Unspecified\n",
      "0.00084985833 3.7382698e-14            0.0           Mohanty+ 2013       SCUBA\n",
      "  0.000887574   3.42732e-14            0.0           Andrews+ 2013         SMA\n",
      " 0.0013333333    5.7375e-15            0.0           Andrews+ 2013         SMA\n",
      "Length = 140 rows\n",
      "\n",
      " _______SUPPLEMENTARY INFORMATION\n",
      "SimbadName :  IRAS F04147+2822\n",
      "2MASSID :  J04174965+2829362\n",
      "ObjectType :  TTau*\n",
      "StellarType :  M3.7\n",
      "StellarTypeSource :  Herczeg+ 2014\n",
      "RA :  04 17 49.6578\n",
      "DEC :  +28 29 36.325\n",
      "CoordSource :  Gaia Collaboration 2018\n",
      "Distance :  129.03225806451613\n",
      "DistanceSource :  Gaia Collaboration 2018\n",
      "Teff :  4315.1724\n",
      "TeffSource :  Gaia Collaboration 2018\n",
      "Radius :  -1\n",
      "RadiusSource :  \n",
      "Luminosity :  -1\n",
      "LuminositySource :  \n",
      "Ag :  -1\n",
      "AgSource :  \n",
      "Region :  \n",
      "RegionSource :  \n",
      "Av :  -1\n",
      "AvSource :  \n",
      "Age :  -1\n",
      "AgeSource :  \n",
      "Mass :  -1\n",
      "MassSource :  \n",
      "Mdot :  -1\n",
      "MdotSource :  \n",
      "DiskMass :  -1\n",
      "DiskMassSource :  \n",
      "DiskRadius :  -1\n",
      "DiskRadiusSource :  \n",
      "BinaryFlag :  -1\n",
      "BinaryFlagSource :  \n",
      "ExtraField :  \n",
      "comments :  ['All units for flux+wavelength are SI, I leave it to the user to convert/add astropy units', 'Meta data about the star is stored under indivdual fields', 'e.g. if data stored in variable called \"dataTable\" the R.A. of the star can be found via \"dataTable.meta[\"RA\"]\".', 'Everything intended to be read into astropy tables - either directly or via the getSpectraFromFile() function.', 'See GITHUB-REPO for more details.', 'Please cite SOME-PAPER if you make use of this tool or data.']\n",
      "FileCreated :  2018-09-16\n"
     ]
    },
    {
     "name": "stderr",
     "output_type": "stream",
     "text": [
      "WARNING: NoResultsWarning: Query returned no results, so the table will be empty [astroquery.irsa.core]\n",
      "WARNING: NoResultsWarning: Query returned no results, so the table will be empty [astroquery.irsa.core]\n",
      "WARNING: NoResultsWarning: Query returned no results, so the table will be empty [astroquery.irsa.core]\n",
      "WARNING: NoResultsWarning: Query returned no results, so the table will be empty [astroquery.irsa.core]\n",
      "WARNING: NoResultsWarning: Query returned no results, so the table will be empty [astroquery.irsa.core]\n"
     ]
    }
   ],
   "source": [
    "# Finds data repository in spectracles package (though of course you can specify your own)\n",
    "spectraclesDir=spectracles.__file__[:spectracles.__file__.rfind('/')] # (just in case you're running this in another directory)\n",
    "saveDirectory=spectraclesDir+'/spectraData'\n",
    "\n",
    "# Writes data to a file (identified by the stars 2MASS Id) in that directory CURRENTLY SET TO OVERWRITE EXISTING DATA!\n",
    "table = spectracles.spectra.getSpectra(name=v410xray1,saveDir=saveDirectory,overwrite=1)\n",
    "\n",
    "# Let's have a look at that data\n",
    "print('\\n _______MAIN TABLE OF FLUXS:')\n",
    "print(table)\n",
    "print('\\n _______SUPPLEMENTARY INFORMATION')\n",
    "for key in table.meta.keys():\n",
    "    print(key,': ',table.meta[key])"
   ]
  },
  {
   "cell_type": "markdown",
   "metadata": {},
   "source": [
    "### Notice, the SED data is the same, but there's a bit more supplementary data (mostly blank fields we may want to fill in later).\n",
    "\n",
    "### Great, now let's add some data about this star from other sources (I realise this is a long cell, but if you understand all of this you're on the home straight):"
   ]
  },
  {
   "cell_type": "code",
   "execution_count": 16,
   "metadata": {},
   "outputs": [
    {
     "name": "stderr",
     "output_type": "stream",
     "text": [
      "WARNING: AstropyDeprecationWarning: /Users/Zephyr/Google Drive/astro/pythonModules/spectracles/spectraData/J04174965+2829362.ecsv already exists. Automatically overwriting ASCII files is deprecated. Use the argument 'overwrite=True' in the future. [astropy.io.ascii.ui]\n"
     ]
    },
    {
     "name": "stdout",
     "output_type": "stream",
     "text": [
      "\n",
      " Trying to add data about property: Teff from an older source\n",
      "Existing value of  4315.1724  comes from  Gaia Collaboration 2018\n",
      "(Note - if exisiting data is from Gaia and not astrometric you may want to replace it, they are fitted to very few data points)\n",
      "You can forcefully write to file by setting overwrite=1\n",
      "For now returning original table\n",
      "You can suppress this warning by setting overwrite=-1\n",
      "\n",
      " _______MAIN TABLE OF FLUXS:\n",
      "    lambda         flux         error               source          telescope \n",
      "------------- ------------- -------------- ----------------------- -----------\n",
      " 4.445103e-07 1.1447982e-08   4.539717e-09              STScI 2006       2MASS\n",
      "4.6832557e-07    7.7418e-09  3.0638927e-09              STScI 2006        POSS\n",
      " 4.775549e-07 4.5514597e-09    7.76116e-10          Chambers+ 2016  Pan-STARRS\n",
      " 5.049655e-07 1.3059328e-08   9.412128e-10 Gaia Collaboration 2018        Gaia\n",
      " 6.129955e-07  7.233273e-09 1.03788686e-10          Chambers+ 2016  Pan-STARRS\n",
      "  6.23053e-07  4.250441e-08  1.3137728e-09 Gaia Collaboration 2018        Gaia\n",
      " 6.404372e-07 4.7908156e-08  1.8504982e-08              STScI 2006        POSS\n",
      "6.7346116e-07 5.5230966e-08            0.0         Zacharias+ 2017        Gaia\n",
      "6.7346116e-07 5.5230966e-08            0.0 Gaia Collaboration 2016        Gaia\n",
      "6.7346116e-07 5.5230966e-08  1.0583179e-09           Altmann+ 2017        Gaia\n",
      "          ...           ...            ...                     ...         ...\n",
      " 7.004763e-05  2.201085e-11  1.8342376e-12            Bulger+ 2014    Herschel\n",
      " 7.146941e-05 3.0071202e-11   6.108213e-12            Rebull+ 2010     Spitzer\n",
      " 7.146941e-05 2.9953737e-11   5.873282e-12            Bulger+ 2014     Spitzer\n",
      "0.00010201999  9.771255e-10            0.0        Abrahamyan+ 2015        IRAS\n",
      "0.00016011101 1.4277058e-11            0.0            Bulger+ 2014    Herschel\n",
      "0.00045030846 1.3906853e-12            0.0            Bulger+ 2014 Unspecified\n",
      "0.00084985833 3.7382698e-14            0.0            Bulger+ 2014 Unspecified\n",
      "0.00084985833 3.7382698e-14            0.0           Mohanty+ 2013       SCUBA\n",
      "  0.000887574   3.42732e-14            0.0           Andrews+ 2013         SMA\n",
      "       0.0013  5.325444e-16            0.0          Boneberg+ 2018        ALMA\n",
      " 0.0013333333    5.7375e-15            0.0           Andrews+ 2013         SMA\n",
      "Length = 141 rows\n",
      "\n",
      " _______SUPPLEMENTARY INFORMATION\n",
      "SimbadName :  IRAS F04147+2822\n",
      "2MASSID :  J04174965+2829362\n",
      "ObjectType :  TTau*\n",
      "StellarType :  M3.7\n",
      "StellarTypeSource :  Herczeg+ 2014\n",
      "RA :  04 17 49.6578\n",
      "DEC :  +28 29 36.325\n",
      "CoordSource :  Gaia Collaboration 2018\n",
      "Distance :  129.03225806451613\n",
      "DistanceSource :  Gaia Collaboration 2018\n",
      "Teff :  4315.1724\n",
      "TeffSource :  Gaia Collaboration 2018\n",
      "Radius :  -1.0\n",
      "RadiusSource :  \n",
      "Luminosity :  0.45\n",
      "LuminositySource :  Andrews+ 2013\n",
      "Ag :  -1.0\n",
      "AgSource :  \n",
      "Region :  Taurus\n",
      "RegionSource :  Andrews+ 2013\n",
      "Av :  3.67\n",
      "AvSource :  Andrews+ 2013\n",
      "Age :  1.29\n",
      "AgeSource :  Siess+ 2000\n",
      "Mass :  0.245\n",
      "MassSource :  Siess+ 2000\n",
      "Mdot :  -1.0\n",
      "MdotSource :  \n",
      "DiskMass :  -1.0\n",
      "DiskMassSource :  \n",
      "DiskRadius :  0.6\n",
      "DiskRadiusSource :  Boneberg+ 2018\n",
      "BinaryFlag :  -1\n",
      "BinaryFlagSource :  \n",
      "ExtraField :  \n",
      "comments :  ['All units for flux+wavelength are SI, I leave it to the user to convert/add astropy units', 'Meta data about the star is stored under indivdual fields', 'e.g. if data stored in variable called \"dataTable\" the R.A. of the star can be found via \"dataTable.meta[\"RA\"]\".', 'Everything intended to be read into astropy tables - either directly or via the getSpectraFromFile() function.', 'See GITHUB-REPO for more details.', 'Please cite SOME-PAPER if you make use of this tool or data.']\n",
      "FileCreated :  2018-09-16\n"
     ]
    }
   ],
   "source": [
    "# Already there's some useful info stored in the file and the table's meta data, but let's add more\n",
    "twoMassId = table.meta['2MASSID'] # This is the universal identifier used for the star\n",
    "Source='Andrews+ 2013'\n",
    "Region='Taurus'\n",
    "spectracles.spectra.addRegionToMetadata(twoMassId,saveDirectory,Region,Source) # Special version of addToMetadata\n",
    "# If you want to keep track of which papers refer to a specific star can keep calling this and it will just add more sources (all other fields only take one source)\n",
    "\n",
    "#\n",
    "\n",
    "# Some data about the star from the above source\n",
    "Luminosity=0.45 # in Lsun\n",
    "Teff=3270 # in Kelvin\n",
    "Av=3.67\n",
    "\n",
    "# Could add these individually as so:\n",
    "spectracles.spectra.addToMetadata(twoMassId,saveDirectory,'Luminosity',Luminosity,Source)\n",
    "\n",
    "# Or can save some effort adding them as a list:\n",
    "spectracles.spectra.addToMetadata(twoMassId,saveDirectory,['Teff','Av'],[Teff,Av],Source)\n",
    "# Note - it won't actually add the new Teff, because this star has a newer value from Gaia, instead it will return a warning and continue\n",
    "# If you really wanted to add it you could set overwrite=1 in the function call \n",
    "# (this behaviour occurs a lot in spectracles, I want to make it hard - but possible - for the user to overwrite good data, and close to impossible to duplicate data)\n",
    "\n",
    "#\n",
    "\n",
    "# What about some data from a whole bunch of sources? Easy\n",
    "sources=['Siess+ 2000','Siess+ 2000','Boneberg+ 2018']\n",
    "fields=['Mass','Age','DiskRadius']\n",
    "values=[0.245,1.29,0.6]\n",
    "# in Msun, Gyr and AU respectively\n",
    "spectracles.spectra.addToMetadata(twoMassId,saveDirectory,fields,values,sources)\n",
    "\n",
    "#\n",
    "\n",
    "# Finally lets add a data point (in the form of numpy arrays, here we only have one data point but can add many at a time)\n",
    "l=np.array([1.3e-3]) # wavelength in m\n",
    "f=np.array([0.3*1e-29*3e8/(l**2)]) # flux in W m (here converting from a value given for F_nu in mJ) [WRONG VALUE?!?]\n",
    "e=np.array([0]) # error in flux in W m - an error of 0 means the point is an upper limit\n",
    "spectracles.spectra.addToSpectra(twoMassId,saveDirectory,l,f,e,'Boneberg+ 2018','ALMA')\n",
    "\n",
    "#\n",
    "\n",
    "# Retrieve all this data as an astropy table (actually all the above functions return this, but conceptually easier to just retrieve it at the end)\n",
    "table=spectracles.spectra.getSpectraFromFile(twoMassId,saveDirectory)\n",
    "\n",
    "# One last look at the data\n",
    "print('\\n _______MAIN TABLE OF FLUXS:')\n",
    "print(table)\n",
    "print('\\n _______SUPPLEMENTARY INFORMATION')\n",
    "for property in table.meta:\n",
    "    print(property,': ',table.meta[property])"
   ]
  },
  {
   "cell_type": "markdown",
   "metadata": {},
   "source": [
    "### Finally, try running this cell again. Notice that it warns you that you're trying to duplicate data.\n",
    "\n",
    "### It won't break when you do this, it just ignores your request and continues. (In most places you can set overwrite=1 to force it to overwrite/duplicate). \n",
    "\n",
    "### Overwriting is a bit scary generally, if you're going to do it I suggest starting from scratch (running getSpectra() with overwrite=1 and appending brand new data)."
   ]
  },
  {
   "cell_type": "markdown",
   "metadata": {},
   "source": [
    "# Notes and extras:\n",
    "\n",
    "- This tool is, by design, very agnostic. It collects all the data it can find. The data is not cleaned, it comes from many sources and some may not be using the same conventions. The philosphy is that with enough data these variations become invisible. This is a bad philosphy. The point of spectracles is to make spectral data accesesible, visible and usable, but be very wary that the flood of data may be hiding significant trends or variations. I advise that you plot everything you work with, no better tool than the human eye.\n",
    "\n",
    "- As a follow up, you won't have to look at a large number of spectra (i.e. more than 2) to start spotting some data points that seem like clear outliers. They probably are, either just rogue data points, multiple objects in view (particularly a problem with IRAS) or even perfectly physical and completely unhelpful variability. If you want to fit anything you'll likely need to decide how to handle these, maybe on a case by case basis, and use a lot of care.\n",
    "\n",
    "- If one author uses a data point from another publication, and publishes it in a machine readable form, Vizier will find both and both data points will appear here. They may be identical or slightly shifted (e.g. if they've been dereddened - a whole issue in itself). Watch out for doubling up (a tool that ~deals with this is on its way, see below).\n",
    "\n",
    "- If you're getting a ton of warnings (especially from astroquery.IRSA) you can uncomment a few lines at the top of spectra.py. This will suppress all warnings, probably a fine thing to do but I'm leaving it on while developing the package.\n",
    "\n",
    "- If you want there is an optional parameter windowSize in getSpectra which limits how large a region around the star to return SED points from. The default value is windowSize=2 (in milli-arcseconds) and is the radius within which SED points are returned. The center point is the star position according to Simbad (not always perfect, hence I suggest not making windowSize < ~1). Equally, some measurements can be quite far from the star, but still have it as the main object in the field. However, if you think you're getting contamination from a nearby source you can try decreasing it.\n",
    "\n",
    "- There's a (blank) extra field, called 'ExtraField', in the data in which you can record any other detail you wish. If you use this a lot you might want to hardcode that parameter, or ask me to. You can write to it easily using 'rewriteExtraField(twoMassID,saveDir,entry)' where entry is whatever you want to put in there (Note that in saving it, I think this will be converted to a string. You can put whatever you want in there, including arrays, dictionaries or lists, if you can convert it to a string and back.)\n",
    "\n",
    "- If you're just enjoying the quick access to Simbad via getInfo() you may want to use the getCoords() function. It's very simple, just takes a (Simbad recognised) name and returns the coordiantes of that object. Not used anywhere here but thought I'd leave it in.\n",
    "\n",
    "- If you ask me what coordinate scheme everything is in my response will be \"normal\". Any further questions in that vein will be ignored. Don't blame me, blame yourselves astronomers."
   ]
  },
  {
   "cell_type": "markdown",
   "metadata": {},
   "source": [
    "# New features and bugs:\n",
    "\n",
    "- Eventually I'll add some simple plotting functions.\n",
    "\n",
    "- At the moment the only way you could keep track of all the data here is to loop through all the files. I'll have a think about the best way to keep track of all this (maybe just write a function that does that loop and records some data.\n",
    "\n",
    "- I'll also add a tool to quickly clean data. Probably it will just limit itself to returning the most recent data point from only recent surveys, giving a much shorter, more evenly sampled, and hopefully representative set of data. There's no one way to do this so others may want to write their own/give suggestions.\n",
    "\n",
    "- This package makes a lot of use of astroquery and the Vizier SED tool. To their authors, thank you for those invaluable resources. To everyone else, please keep in mind with whatever you're doing if it can and should be easily accesible online. Monkey work should be limited to zoologists.\n",
    "\n",
    "- No bugs! (that I know of (yet)) A few parts of the package may go stale if not updated. If there are any new catalogs you think I should be using let me know (e.g. if I haven't updated everything to the newest Gaia data reelease)."
   ]
  },
  {
   "cell_type": "markdown",
   "metadata": {},
   "source": [
    "# _ _ _ _ _ _ _ _ _ _ _\n",
    "# Here be dragons!\n",
    "# Below is messy code, mostly me writing and testing the package, but may add more features and explanations later."
   ]
  },
  {
   "cell_type": "code",
   "execution_count": 141,
   "metadata": {},
   "outputs": [
    {
     "name": "stdout",
     "output_type": "stream",
     "text": [
      "2018-09-15\n",
      "2018-09-15 16:23:44.489732\n"
     ]
    }
   ],
   "source": [
    "import datetime\n",
    "print(str(datetime.datetime.today()).split()[0])\n",
    "print(datetime.datetime.now())"
   ]
  },
  {
   "cell_type": "code",
   "execution_count": 166,
   "metadata": {},
   "outputs": [
    {
     "name": "stdout",
     "output_type": "stream",
     "text": [
      "SimbadName : \t\t IRAS F04147+2822\n",
      "2MASSID : \t\t J04174965+2829362\n",
      "ObjectType : \t\t TTau*\n",
      "StellarType : \t\t M3.7\n",
      "StellarTypeSource : \t\t Herczeg+ 2014\n",
      "RA : \t\t 04 17 49.6578\n",
      "DEC : \t\t +28 29 36.325\n",
      "CoordSource : \t\t Gaia Collaboration 2018\n",
      "Distance : \t\t 129.03225806451613\n",
      "DistanceSource : \t\t Gaia Collaboration 2018\n",
      "Teff : \t\t 4315.1724\n",
      "TeffSoruce : \t\t Gaia Collaboration 2018\n",
      "Radius : \t\t -1\n",
      "RadiusSoruce : \t\t \n",
      "Luminosity : \t\t -1\n",
      "LuminositySoruce : \t\t \n",
      "FileCreated : \t\t 2018-09-15\n",
      "comments : \t\t ['All units are SI, I leave it to the user to convert/add astropy units', 'Meta data about the star is stored under indivdual fields', 'e.g. if data stored in variable called \"dataTable\" the R.A. of the star can be found via \"dataTable.meta[\"RA\"]\".', 'Everything intended to be read into astropy tables - either directly or via the getSpectraFromFile() function.', 'See GITHUB-REPO for more details.', 'Please cite SOME-PAPER if you make use of this tool or data.']\n"
     ]
    }
   ],
   "source": [
    "for key in table.meta.keys():\n",
    "    print(key,': \\t\\t',table.meta[key])\n",
    "    #print(table.meta[key])\n",
    "#print(table.meta)"
   ]
  },
  {
   "cell_type": "code",
   "execution_count": 169,
   "metadata": {},
   "outputs": [
    {
     "name": "stdout",
     "output_type": "stream",
     "text": [
      "No property called  Hello  in table\n",
      "Valid properties stored in metadata are:\n",
      "SimbadName\n",
      "2MASSID\n",
      "ObjectType\n",
      "StellarType\n",
      "RA\n",
      "DEC\n",
      "Distance\n",
      "Teff\n",
      "Radius\n",
      "Luminosity\n",
      "FileCreated\n",
      "comments\n",
      "Note: must add a source along with each property\n"
     ]
    }
   ],
   "source": [
    "saveDir='/Users/Zephyr/Google Drive/astro/pythonModules/spectracles/spectraData'\n",
    "tmName='J04174965+2829362'\n",
    "table=spectracles.spectra.addToMetadata(tmName,saveDir,'Hello',1,'me')\n",
    "#fileTable=spectracles.spectra.getSpectraFromFile(tmName,saveDir)\n",
    "#fileTable=astropy.io.ascii.read('/Users/Zephyr/Google Drive/astro/pythonModules/spectracles/spectraData/J04174965+2829362.ecsv')\n",
    "#print(fileTable)\n",
    "#for key in fileTable.meta.keys():\n",
    "#    print('key: ',key)\n",
    "#    print(fileTable.meta[key])\n",
    "#    print(type(fileTable.meta[key]))"
   ]
  },
  {
   "cell_type": "code",
   "execution_count": 24,
   "metadata": {},
   "outputs": [
    {
     "name": "stdout",
     "output_type": "stream",
     "text": [
      "    MAIN_ID            RA           DEC      ... PLX_VALUE     PLX_BIBCODE    \n",
      "                    \"h:m:s\"       \"d:m:s\"    ...    mas                       \n",
      "---------------- ------------- ------------- ... --------- -------------------\n",
      "IRAS F04147+2822 04 17 49.6578 +28 29 36.325 ...     7.750 2018yCat.1345....0G\n",
      "['MAIN_ID', 'RA', 'DEC', 'RA_PREC', 'DEC_PREC', 'COO_ERR_MAJA', 'COO_ERR_MINA', 'COO_ERR_ANGLE', 'COO_QUAL', 'COO_WAVELENGTH', 'COO_BIBCODE', 'SP_TYPE', 'SP_QUAL', 'SP_BIBCODE', 'IDS', 'OTYPE', 'PLX_VALUE', 'PLX_BIBCODE']\n",
      "SP_TYPE\n",
      "-------\n",
      "   M3.7\n",
      "     SP_BIBCODE    \n",
      "-------------------\n",
      "2014ApJ...786...97H\n",
      "Herczeg+ 2014\n",
      "OrderedDict([('J/ApJ/786/97', </>)])\n",
      "Photospheric properties of T Tauri stars (Herczeg+, 2014)\n",
      "Herczeg+, 2014\n"
     ]
    }
   ],
   "source": [
    "import astroquery.simbad\n",
    "import astroquery.vizier\n",
    "simbad=astroquery.simbad.Simbad()\n",
    "simbad.add_votable_fields('sptype')\n",
    "simbad.add_votable_fields('ids')\n",
    "simbad.add_votable_fields('otype')\n",
    "simbad.add_votable_fields('plx')\n",
    "simbad.add_votable_fields('plx_bibcode')\n",
    "star=simbad.query_object(v410)\n",
    "print(star)\n",
    "print(star.keys())\n",
    "print(star['SP_TYPE'])\n",
    "print(star['SP_BIBCODE'])\n",
    "spTypeBib=star['SP_BIBCODE']\n",
    "\n",
    "catalogs=astroquery.vizier.Vizier.find_catalogs(spTypeBib)\n",
    "print(spectracles.spectra.getRef(spTypeBib))\n",
    "description=catalogs[list(catalogs.items())[0][0]].description\n",
    "reference=description[description.rfind('(')+1:description.rfind(')')]\n",
    "print(catalogs)\n",
    "print(description)\n",
    "print(reference)"
   ]
  },
  {
   "cell_type": "code",
   "execution_count": 28,
   "metadata": {},
   "outputs": [
    {
     "name": "stdout",
     "output_type": "stream",
     "text": [
      "--NOTES--\n",
      "\n",
      "1. The parameter filtername must correspond to an existing filter. Filters include: B,V,R,I,J,K.  They are checked by SIMBAD but not astroquery.simbad\n",
      "\n",
      "2. Fields beginning with rvz display the data as it is in the database. Fields beginning with rv force the display as a radial velocity. Fields beginning with z force the display as a redshift\n",
      "\n",
      "3. For each measurement catalog, the VOTable contains all fields of the first measurement. When applicable, the first measurement is the mean one. \n",
      "\n",
      "Available VOTABLE fields:\n",
      "\n",
      "bibcodelist(y1-y2)\n",
      "cel\n",
      "cl.g\n",
      "coo(opt)\n",
      "coo_bibcode\n",
      "coo_err_angle\n",
      "coo_err_maja\n",
      "coo_err_mina\n",
      "coo_qual\n",
      "coo_wavelength\n",
      "coordinates\n",
      "dec(opt)\n",
      "dec_prec\n",
      "diameter\n",
      "dim\n",
      "dim_angle\n",
      "dim_bibcode\n",
      "dim_incl\n",
      "dim_majaxis\n",
      "dim_minaxis\n",
      "dim_qual\n",
      "dim_wavelength\n",
      "dimensions\n",
      "dist\n",
      "distance\n",
      "einstein\n",
      "fe_h\n",
      "flux(filtername)\n",
      "flux_bibcode(filtername)\n",
      "flux_error(filtername)\n",
      "flux_name(filtername)\n",
      "flux_qual(filtername)\n",
      "flux_system(filtername)\n",
      "flux_unit(filtername)\n",
      "fluxdata(filtername)\n",
      "gcrv\n",
      "gen\n",
      "gj\n",
      "hbet\n",
      "hbet1\n",
      "hgam\n",
      "id(opt)\n",
      "ids\n",
      "iras\n",
      "irc\n",
      "iso\n",
      "iue\n",
      "jp11\n",
      "main_id\n",
      "measurements\n",
      "mesplx\n",
      "mespm\n",
      "mk\n",
      "morphtype\n",
      "mt\n",
      "mt_bibcode\n",
      "mt_qual\n",
      "orv\n",
      "otype\n",
      "otype(opt)\n",
      "parallax\n",
      "plx\n",
      "plx_bibcode\n",
      "plx_error\n",
      "plx_prec\n",
      "plx_qual\n",
      "pm\n",
      "pm_bibcode\n",
      "pm_err_angle\n",
      "pm_err_maja\n",
      "pm_err_mina\n",
      "pm_qual\n",
      "pmdec\n",
      "pmdec_prec\n",
      "pmra\n",
      "pmra_prec\n",
      "pos\n",
      "posa\n",
      "propermotions\n",
      "ra(opt)\n",
      "ra_prec\n",
      "rot\n",
      "rv_value\n",
      "rvel\n",
      "rvz_bibcode\n",
      "rvz_error\n",
      "rvz_qual\n",
      "rvz_radvel\n",
      "rvz_type\n",
      "rvz_wavelength\n",
      "sao\n",
      "sp\n",
      "sp_bibcode\n",
      "sp_nature\n",
      "sp_qual\n",
      "sptype\n",
      "td1\n",
      "ubv\n",
      "uvby\n",
      "uvby1\n",
      "v*\n",
      "velocity\n",
      "xmm\n",
      "z\n",
      "z_value\n",
      "ze\n",
      "For more information on a field:\n",
      "Simbad.get_field_description ('field_name') \n",
      "Currently active VOTABLE fields:\n",
      " ['main_id', 'coordinates']\n"
     ]
    }
   ],
   "source": [
    "astroquery.simbad.Simbad.list_votable_fields()"
   ]
  },
  {
   "cell_type": "code",
   "execution_count": 8,
   "metadata": {},
   "outputs": [
    {
     "name": "stdout",
     "output_type": "stream",
     "text": [
      "spectral type value\n"
     ]
    }
   ],
   "source": [
    "import astroquery\n",
    "astroquery.simbad.Simbad.get_field_description('sp')"
   ]
  },
  {
   "cell_type": "code",
   "execution_count": null,
   "metadata": {},
   "outputs": [],
   "source": []
  }
 ],
 "metadata": {
  "kernelspec": {
   "display_name": "Python 3",
   "language": "python",
   "name": "python3"
  },
  "language_info": {
   "codemirror_mode": {
    "name": "ipython",
    "version": 3
   },
   "file_extension": ".py",
   "mimetype": "text/x-python",
   "name": "python",
   "nbconvert_exporter": "python",
   "pygments_lexer": "ipython3",
   "version": "3.6.6"
  }
 },
 "nbformat": 4,
 "nbformat_minor": 2
}
